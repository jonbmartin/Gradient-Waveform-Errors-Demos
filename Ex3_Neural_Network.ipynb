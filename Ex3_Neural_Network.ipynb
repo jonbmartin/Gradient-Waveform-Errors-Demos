{
  "nbformat": 4,
  "nbformat_minor": 0,
  "metadata": {
    "colab": {
      "provenance": [],
      "authorship_tag": "ABX9TyPcibDIJ74a/Ec9ad0uL7xY",
      "include_colab_link": true
    },
    "kernelspec": {
      "name": "python3",
      "display_name": "Python 3"
    },
    "language_info": {
      "name": "python"
    }
  },
  "cells": [
    {
      "cell_type": "markdown",
      "metadata": {
        "id": "view-in-github",
        "colab_type": "text"
      },
      "source": [
        "<a href=\"https://colab.research.google.com/github/jonbmartin/Gradient-Waveform-Errors-Demos/blob/main/Ex3_Neural_Network.ipynb\" target=\"_parent\"><img src=\"https://colab.research.google.com/assets/colab-badge.svg\" alt=\"Open In Colab\"/></a>"
      ]
    },
    {
      "cell_type": "code",
      "source": [
        "!git clone https://github.com/jonbmartin/Gradient-Waveform-Errors-Demos\n",
        "!cd Gradient-Waveform-Errors-Demos"
      ],
      "metadata": {
        "id": "VKInBfjT2_F7",
        "outputId": "893fba7b-8443-44ab-e626-2297d1c034dc",
        "colab": {
          "base_uri": "https://localhost:8080/"
        }
      },
      "execution_count": 1,
      "outputs": [
        {
          "output_type": "stream",
          "name": "stdout",
          "text": [
            "fatal: destination path 'Gradient-Waveform-Errors-Demos' already exists and is not an empty directory.\n"
          ]
        }
      ]
    },
    {
      "cell_type": "code",
      "source": [
        "import sys\n",
        "sys.path.insert(0,'/content/Gradient-Waveform-Errors-Demos')\n",
        "sys.path.insert(0,'/content/Gradient-Waveform-Errors-Demos/utils/')"
      ],
      "metadata": {
        "id": "wRHia0JB4LyW"
      },
      "execution_count": 10,
      "outputs": []
    },
    {
      "cell_type": "markdown",
      "source": [],
      "metadata": {
        "id": "Yp6olyJT5VRH"
      }
    },
    {
      "cell_type": "code",
      "source": [
        "from belief_network_util import *\n"
      ],
      "metadata": {
        "id": "cVWxeJw14RLa"
      },
      "execution_count": 11,
      "outputs": []
    },
    {
      "cell_type": "code",
      "source": [],
      "metadata": {
        "id": "XuSAZUaq4SSd"
      },
      "execution_count": null,
      "outputs": []
    }
  ]
}